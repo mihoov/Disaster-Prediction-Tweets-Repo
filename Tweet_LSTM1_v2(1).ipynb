{
 "cells": [
  {
   "cell_type": "code",
   "execution_count": null,
   "metadata": {
    "colab": {
     "base_uri": "https://localhost:8080/"
    },
    "id": "1bXVwh1sqUAg",
    "outputId": "744c60bb-35ff-483c-ca73-67d56684eae2"
   },
   "outputs": [
    {
     "name": "stdout",
     "output_type": "stream",
     "text": [
      "Drive already mounted at /content/drive; to attempt to forcibly remount, call drive.mount(\"/content/drive\", force_remount=True).\n"
     ]
    }
   ],
   "source": [
    "# Google Colab and Google Drive connection\n",
    "from google.colab import drive\n",
    "drive.mount('/content/drive')"
   ]
  },
  {
   "cell_type": "code",
   "execution_count": null,
   "metadata": {
    "colab": {
     "base_uri": "https://localhost:8080/"
    },
    "id": "VhsI4y540Z1J",
    "outputId": "7f82b2b0-423a-450d-fae5-418e2b0d0b79"
   },
   "outputs": [
    {
     "name": "stdout",
     "output_type": "stream",
     "text": [
      "[nltk_data] Downloading package punkt to /root/nltk_data...\n",
      "[nltk_data]   Package punkt is already up-to-date!\n",
      "[nltk_data] Downloading package stopwords to /root/nltk_data...\n",
      "[nltk_data]   Package stopwords is already up-to-date!\n"
     ]
    }
   ],
   "source": [
    "import pandas as pd\n",
    "import numpy as np\n",
    "import matplotlib.pyplot as plt\n",
    "import seaborn as sns\n",
    "import re\n",
    "import string\n",
    "\n",
    "import nltk \n",
    "nltk.download('punkt')\n",
    "nltk.download('stopwords')\n",
    "# ---------------------\n",
    "from nltk.corpus import stopwords\n",
    "from nltk.tokenize import word_tokenize \n",
    "from nltk.stem import SnowballStemmer\n",
    "\n",
    "from sklearn import model_selection, metrics, preprocessing, ensemble, model_selection, metrics\n",
    "from sklearn.feature_extraction.text import CountVectorizer\n",
    "\n",
    "import tensorflow as tf\n",
    "from tensorflow.keras.models import Model\n",
    "from tensorflow.keras.preprocessing.text import Tokenizer\n",
    "from tensorflow.keras.preprocessing.sequence import pad_sequences\n",
    "from tensorflow.keras.layers import Conv1D, Bidirectional, LSTM, Dense, Dropout, Input\n",
    "from tensorflow.keras.optimizers import Adam"
   ]
  },
  {
   "cell_type": "code",
   "execution_count": null,
   "metadata": {
    "colab": {
     "base_uri": "https://localhost:8080/",
     "height": 224
    },
    "id": "OIsK9zHp0YVj",
    "outputId": "ff882b7b-5ef3-43ec-9916-2eed8802324e"
   },
   "outputs": [
    {
     "name": "stdout",
     "output_type": "stream",
     "text": [
      "Data points count:  7613\n"
     ]
    },
    {
     "data": {
      "text/html": [
       "<div>\n",
       "<style scoped>\n",
       "    .dataframe tbody tr th:only-of-type {\n",
       "        vertical-align: middle;\n",
       "    }\n",
       "\n",
       "    .dataframe tbody tr th {\n",
       "        vertical-align: top;\n",
       "    }\n",
       "\n",
       "    .dataframe thead th {\n",
       "        text-align: right;\n",
       "    }\n",
       "</style>\n",
       "<table border=\"1\" class=\"dataframe\">\n",
       "  <thead>\n",
       "    <tr style=\"text-align: right;\">\n",
       "      <th></th>\n",
       "      <th>id</th>\n",
       "      <th>keyword</th>\n",
       "      <th>location</th>\n",
       "      <th>text</th>\n",
       "      <th>target</th>\n",
       "    </tr>\n",
       "  </thead>\n",
       "  <tbody>\n",
       "    <tr>\n",
       "      <th>0</th>\n",
       "      <td>1</td>\n",
       "      <td>NaN</td>\n",
       "      <td>NaN</td>\n",
       "      <td>Our Deeds are the Reason of this #earthquake M...</td>\n",
       "      <td>1</td>\n",
       "    </tr>\n",
       "    <tr>\n",
       "      <th>1</th>\n",
       "      <td>4</td>\n",
       "      <td>NaN</td>\n",
       "      <td>NaN</td>\n",
       "      <td>Forest fire near La Ronge Sask. Canada</td>\n",
       "      <td>1</td>\n",
       "    </tr>\n",
       "    <tr>\n",
       "      <th>2</th>\n",
       "      <td>5</td>\n",
       "      <td>NaN</td>\n",
       "      <td>NaN</td>\n",
       "      <td>All residents asked to 'shelter in place' are ...</td>\n",
       "      <td>1</td>\n",
       "    </tr>\n",
       "    <tr>\n",
       "      <th>3</th>\n",
       "      <td>6</td>\n",
       "      <td>NaN</td>\n",
       "      <td>NaN</td>\n",
       "      <td>13,000 people receive #wildfires evacuation or...</td>\n",
       "      <td>1</td>\n",
       "    </tr>\n",
       "    <tr>\n",
       "      <th>4</th>\n",
       "      <td>7</td>\n",
       "      <td>NaN</td>\n",
       "      <td>NaN</td>\n",
       "      <td>Just got sent this photo from Ruby #Alaska as ...</td>\n",
       "      <td>1</td>\n",
       "    </tr>\n",
       "  </tbody>\n",
       "</table>\n",
       "</div>"
      ],
      "text/plain": [
       "   id keyword  ...                                               text target\n",
       "0   1     NaN  ...  Our Deeds are the Reason of this #earthquake M...      1\n",
       "1   4     NaN  ...             Forest fire near La Ronge Sask. Canada      1\n",
       "2   5     NaN  ...  All residents asked to 'shelter in place' are ...      1\n",
       "3   6     NaN  ...  13,000 people receive #wildfires evacuation or...      1\n",
       "4   7     NaN  ...  Just got sent this photo from Ruby #Alaska as ...      1\n",
       "\n",
       "[5 rows x 5 columns]"
      ]
     },
     "execution_count": 4,
     "metadata": {},
     "output_type": "execute_result"
    }
   ],
   "source": [
    "# Rreading train dataset\n",
    "file_path = \"/content/drive/MyDrive/bds/nlp-disaster-tweets/train.csv\"\n",
    "raw_data = pd.read_csv(file_path)\n",
    "print(\"Data points count: \", raw_data['id'].count())\n",
    "raw_data.head()"
   ]
  },
  {
   "cell_type": "code",
   "execution_count": null,
   "metadata": {
    "colab": {
     "base_uri": "https://localhost:8080/",
     "height": 537
    },
    "id": "5_Jk5H3F0ojv",
    "outputId": "c5d26ca5-928b-473c-9052-91ee88052990"
   },
   "outputs": [
    {
     "data": {
      "image/png": "[encoded data removed]",
      "text/plain": [
       "<Figure size 720x576 with 1 Axes>"
      ]
     },
     "metadata": {
      "needs_background": "light"
     },
     "output_type": "display_data"
    }
   ],
   "source": [
    "# Plotting target value counts\n",
    "plt.figure(figsize=(10,8))\n",
    "ax = raw_data['target'].value_counts().sort_values().plot(kind=\"bar\")\n",
    "ax.grid(axis=\"y\")\n",
    "plt.suptitle(\"Target Value Counts\", fontsize=20)\n",
    "plt.show()"
   ]
  },
  {
   "cell_type": "code",
   "execution_count": null,
   "metadata": {
    "colab": {
     "base_uri": "https://localhost:8080/"
    },
    "id": "H3dbh-Hm02cP",
    "outputId": "1308c061-c89d-458a-b272-7debe5fec769"
   },
   "outputs": [
    {
     "name": "stdout",
     "output_type": "stream",
     "text": [
      "Number of missing data for column keyword:  61\n",
      "Number of missing data for column location:  2533\n",
      "Number of missing data for column text:  0\n",
      "Number of missing data for column target:  0\n"
     ]
    }
   ],
   "source": [
    "print(\"Number of missing data for column keyword: \", raw_data['keyword'].isna().sum())\n",
    "print(\"Number of missing data for column location: \", raw_data['location'].isna().sum())\n",
    "print(\"Number of missing data for column text: \", raw_data['text'].isna().sum())\n",
    "print(\"Number of missing data for column target: \", raw_data['target'].isna().sum())"
   ]
  },
  {
   "cell_type": "code",
   "execution_count": null,
   "metadata": {
    "colab": {
     "base_uri": "https://localhost:8080/",
     "height": 595
    },
    "id": "_YxOyM8X05AE",
    "outputId": "1f58f539-6e7f-486a-9fd3-f0c77542eb13"
   },
   "outputs": [
    {
     "name": "stderr",
     "output_type": "stream",
     "text": [
      "/usr/local/lib/python3.7/dist-packages/seaborn/distributions.py:2619: FutureWarning: `distplot` is a deprecated function and will be removed in a future version. Please adapt your code to use either `displot` (a figure-level function with similar flexibility) or `histplot` (an axes-level function for histograms).\n",
      "  warnings.warn(msg, FutureWarning)\n"
     ]
    },
    {
     "data": {
      "image/png": "[encoded data removed]",
      "text/plain": [
       "<Figure size 1080x576 with 1 Axes>"
      ]
     },
     "metadata": {
      "needs_background": "light"
     },
     "output_type": "display_data"
    }
   ],
   "source": [
    "plt.figure(figsize=(15,8))\n",
    "raw_data['word_count'] = raw_data['text'].apply(lambda x: len(x.split(\" \")) )\n",
    "sns.distplot(raw_data['word_count'].values, hist=True, kde=True, kde_kws={\"shade\": True})\n",
    "plt.suptitle(\"Word count histogram\")\n",
    "plt.show()\n",
    "\n",
    "# remove rows with under 3 words\n",
    "raw_data = raw_data[raw_data['word_count']>2]\n",
    "raw_data = raw_data.reset_index()"
   ]
  },
  {
   "cell_type": "code",
   "execution_count": null,
   "metadata": {
    "colab": {
     "base_uri": "https://localhost:8080/"
    },
    "id": "m5R8tQVc08rl",
    "outputId": "56db05ba-8406-4276-9b5a-e09b59f93fda"
   },
   "outputs": [
    {
     "name": "stdout",
     "output_type": "stream",
     "text": [
      "25th percentile:  11.0\n",
      "mean:  15.0\n",
      "75th percentile:  19.0\n"
     ]
    }
   ],
   "source": [
    "print(\"25th percentile: \", raw_data['word_count'].describe()['25%'])\n",
    "print(\"mean: \", raw_data['word_count'].describe()['50%'])\n",
    "print(\"75th percentile: \", raw_data['word_count'].describe()['75%'])"
   ]
  },
  {
   "cell_type": "code",
   "execution_count": null,
   "metadata": {
    "id": "6NKJhxtz1CMM"
   },
   "outputs": [],
   "source": [
    "# Clean text columns\n",
    "stop_words = set(stopwords.words('english'))\n",
    "stemmer = SnowballStemmer('english')\n",
    "\n",
    "def clean_text(each_text):\n",
    "\n",
    "    # remove URL from text\n",
    "    each_text_no_url = re.sub(r\"http\\S+\", \"\", each_text)\n",
    "    \n",
    "    # remove numbers from text\n",
    "    text_no_num = re.sub(r'\\d+', '', each_text_no_url)\n",
    "\n",
    "    # tokenize each text\n",
    "    word_tokens = word_tokenize(text_no_num)\n",
    "    \n",
    "    # remove sptial character\n",
    "    clean_text = []\n",
    "    for word in word_tokens:\n",
    "        clean_text.append(\"\".join([e for e in word if e.isalnum()]))\n",
    "\n",
    "    # remove stop words and lower\n",
    "    text_with_no_stop_word = [w.lower() for w in clean_text if not w in stop_words]  \n",
    "\n",
    "    # do stemming\n",
    "    stemmed_text = [stemmer.stem(w) for w in text_with_no_stop_word]\n",
    "    \n",
    "    return \" \".join(\" \".join(stemmed_text).split())\n",
    "\n",
    "\n",
    "raw_data['clean_text'] = raw_data['text'].apply(lambda x: clean_text(x) )\n",
    "raw_data['keyword'] = raw_data['keyword'].fillna(\"none\")\n",
    "raw_data['clean_keyword'] = raw_data['keyword'].apply(lambda x: clean_text)"
   ]
  },
  {
   "cell_type": "code",
   "execution_count": null,
   "metadata": {
    "id": "LGpW97XG1OMI"
   },
   "outputs": [],
   "source": [
    "# Combine column 'clean_keyword' and 'clean_text' into one\n",
    "# raw_data['keyword_text'] = raw_data['clean_keyword'] + \" \" + raw_data[\"clean_text\"]\n",
    "raw_data[\"keyword_text\"] = raw_data[\"clean_keyword\"].astype(str) + \" \" + raw_data[\"clean_text\"]"
   ]
  },
  {
   "cell_type": "code",
   "execution_count": null,
   "metadata": {
    "id": "jKQ7EIUj1aR4"
   },
   "outputs": [],
   "source": [
    "feature = 'keyword_text'\n",
    "label = \"target\"\n",
    "\n",
    "# split train and test\n",
    "X_train, X_test,y_train, y_test = model_selection.train_test_split(raw_data[feature],\n",
    "                                                                   raw_data[label],\n",
    "                                                                   test_size=0.3,\n",
    "                                                                   random_state=0, \n",
    "                                                                   shuffle=True)"
   ]
  },
  {
   "cell_type": "code",
   "execution_count": null,
   "metadata": {
    "id": "gtVXusDc2fp0"
   },
   "outputs": [],
   "source": [
    "X_train_GBC = X_train.values.reshape(-1)\n",
    "x_test_GBC = X_test.values.reshape(-1)"
   ]
  },
  {
   "cell_type": "code",
   "execution_count": null,
   "metadata": {
    "id": "JvqHyOQ-2wRD"
   },
   "outputs": [],
   "source": [
    "# Vectorize text\n",
    "vectorizer = CountVectorizer()\n",
    "X_train_GBC = vectorizer.fit_transform(X_train_GBC)\n",
    "x_test_GBC = vectorizer.transform(x_test_GBC)"
   ]
  },
  {
   "cell_type": "code",
   "execution_count": null,
   "metadata": {
    "colab": {
     "base_uri": "https://localhost:8080/"
    },
    "id": "HQesiZYU2yEA",
    "outputId": "7228bac1-15ab-4660-c8e7-cd78d2f8397d"
   },
   "outputs": [
    {
     "data": {
      "text/plain": [
       "GradientBoostingClassifier(max_depth=9, max_features=8, min_samples_leaf=2,\n",
       "                           min_samples_split=6, n_estimators=2000,\n",
       "                           subsample=0.9)"
      ]
     },
     "execution_count": 14,
     "metadata": {},
     "output_type": "execute_result"
    }
   ],
   "source": [
    "# Train the model\n",
    "model = ensemble.GradientBoostingClassifier(learning_rate=0.1,                                            \n",
    "                                            n_estimators=2000,\n",
    "                                            max_depth=9,\n",
    "                                            min_samples_split=6,\n",
    "                                            min_samples_leaf=2,\n",
    "                                            max_features=8,\n",
    "                                            subsample=0.9)\n",
    "model.fit(X_train_GBC, y_train)"
   ]
  },
  {
   "cell_type": "code",
   "execution_count": null,
   "metadata": {
    "colab": {
     "base_uri": "https://localhost:8080/"
    },
    "id": "-Vz1-fFp2030",
    "outputId": "f0fa9a6e-7366-4ef7-adfb-1c6239aaf0b4"
   },
   "outputs": [
    {
     "name": "stdout",
     "output_type": "stream",
     "text": [
      "Test accuracy:  0.7964757709251101\n",
      "              precision    recall  f1-score   support\n",
      "\n",
      "           0       0.79      0.88      0.83      1309\n",
      "           1       0.81      0.68      0.74       961\n",
      "\n",
      "    accuracy                           0.80      2270\n",
      "   macro avg       0.80      0.78      0.79      2270\n",
      "weighted avg       0.80      0.80      0.79      2270\n",
      "\n",
      "Test F-scoare:  0.7377979568671965\n"
     ]
    }
   ],
   "source": [
    "# Evaluate the model\n",
    "predicted_prob = model.predict_proba(x_test_GBC)[:,1]\n",
    "predicted = model.predict(x_test_GBC)\n",
    "\n",
    "accuracy = metrics.accuracy_score(predicted, y_test)\n",
    "print(\"Test accuracy: \", accuracy)\n",
    "print(metrics.classification_report(y_test, predicted, target_names=[\"0\", \"1\"]))\n",
    "print(\"Test F-scoare: \", metrics.f1_score(y_test, predicted))\n"
   ]
  },
  {
   "cell_type": "code",
   "execution_count": null,
   "metadata": {
    "colab": {
     "base_uri": "https://localhost:8080/",
     "height": 295
    },
    "id": "mnKYQoXd25T3",
    "outputId": "2312cf23-8334-4a40-a129-92afd2fbb664"
   },
   "outputs": [
    {
     "data": {
      "image/png": "[encoded data removed]",
      "text/plain": [
       "<Figure size 432x288 with 1 Axes>"
      ]
     },
     "metadata": {
      "needs_background": "light"
     },
     "output_type": "display_data"
    }
   ],
   "source": [
    "# Plot confusion matrix\n",
    "conf_matrix = metrics.confusion_matrix(y_test, predicted)\n",
    "\n",
    "fig, ax = plt.subplots()\n",
    "sns.heatmap(conf_matrix, cbar=False, cmap='Reds', annot=True, fmt='d')\n",
    "ax.set(xlabel=\"Predicted Value\", ylabel=\"True Value\", title=\"Confusion Matrix\")\n",
    "ax.set_yticklabels(labels=['0', '1'], rotation=0)\n",
    "\n",
    "plt.show()"
   ]
  },
  {
   "cell_type": "code",
   "execution_count": null,
   "metadata": {
    "id": "nYN323fI27zp"
   },
   "outputs": [],
   "source": [
    "# Define some hyperparameters\n",
    "# path_to_glove_file = './glove.6B.300d.txt' # download link: http://nlp.stanford.edu/data/glove.6B.zip\n",
    "path_to_glove_file = '/content/drive/MyDrive/bds/glove.6B.100d.txt'\n",
    "\n",
    "embedding_dim = 100\n",
    "learning_rate = 1e-3\n",
    "batch_size = 1024\n",
    "epochs = 20\n",
    "sequence_len = 100"
   ]
  },
  {
   "cell_type": "code",
   "execution_count": null,
   "metadata": {
    "colab": {
     "base_uri": "https://localhost:8080/"
    },
    "id": "b6ec1IeM3KGh",
    "outputId": "ee5c23cf-51b5-40c5-ae76-2e35c8a9a8ee"
   },
   "outputs": [
    {
     "name": "stdout",
     "output_type": "stream",
     "text": [
      "Training Y shape: (5294, 1)\n",
      "Testing Y shape: (2270, 1)\n"
     ]
    }
   ],
   "source": [
    "# Define train and test labels\n",
    "y_train_LSTM = y_train.values.reshape(-1,1)\n",
    "y_test_LSTM = y_test.values.reshape(-1,1)\n",
    "\n",
    "print(\"Training Y shape:\", y_train_LSTM.shape)\n",
    "print(\"Testing Y shape:\", y_test_LSTM.shape)"
   ]
  },
  {
   "cell_type": "code",
   "execution_count": null,
   "metadata": {
    "colab": {
     "base_uri": "https://localhost:8080/"
    },
    "id": "Aoh2Esdq3MMo",
    "outputId": "ee5d163d-eece-49cf-a30b-9a0a97f26c68"
   },
   "outputs": [
    {
     "name": "stdout",
     "output_type": "stream",
     "text": [
      "Vocabulary Size:  11163\n"
     ]
    }
   ],
   "source": [
    "# Tokenize train data\n",
    "tokenizer = Tokenizer()\n",
    "tokenizer.fit_on_texts(X_train)\n",
    "\n",
    "word_index = tokenizer.word_index\n",
    "vocab_size = len(word_index) + 1\n",
    "print(\"Vocabulary Size: \", vocab_size)"
   ]
  },
  {
   "cell_type": "code",
   "execution_count": null,
   "metadata": {
    "colab": {
     "base_uri": "https://localhost:8080/"
    },
    "id": "_tgfj6fQ3OB3",
    "outputId": "6ad1f6f2-1900-4fbe-c1a6-7cbb175fb6c3"
   },
   "outputs": [
    {
     "name": "stdout",
     "output_type": "stream",
     "text": [
      "Training X shape:  (5294, 100)\n",
      "Testing X shape:  (2270, 100)\n"
     ]
    }
   ],
   "source": [
    "# Pad train and test \n",
    "X_train = pad_sequences(tokenizer.texts_to_sequences(X_train), maxlen=sequence_len)\n",
    "X_test = pad_sequences(tokenizer.texts_to_sequences(X_test), maxlen=sequence_len)\n",
    "\n",
    "print(\"Training X shape: \", X_train.shape)\n",
    "print(\"Testing X shape: \", X_test.shape)"
   ]
  },
  {
   "cell_type": "code",
   "execution_count": null,
   "metadata": {
    "colab": {
     "base_uri": "https://localhost:8080/"
    },
    "id": "eomNZ-V13Puq",
    "outputId": "661ed06e-7ae2-4eca-c7c5-5a1590a95ffd"
   },
   "outputs": [
    {
     "name": "stdout",
     "output_type": "stream",
     "text": [
      "Found 400000 word vectors.\n"
     ]
    }
   ],
   "source": [
    "# Read word embeddings\n",
    "embeddings_index = {}\n",
    "with open(path_to_glove_file) as f:\n",
    "    for line in f:\n",
    "        word, coefs = line.split(maxsplit=1)\n",
    "        coefs = np.fromstring(coefs, \"f\", sep=\" \")\n",
    "        embeddings_index[word] = coefs\n",
    "\n",
    "print(\"Found %s word vectors.\" % len(embeddings_index))"
   ]
  },
  {
   "cell_type": "code",
   "execution_count": null,
   "metadata": {
    "id": "dQQ57Jv63Rz5"
   },
   "outputs": [],
   "source": [
    "# Define embedding layer in Keras\n",
    "embedding_matrix = np.zeros((vocab_size, embedding_dim))\n",
    "for word, i in word_index.items():\n",
    "    embedding_vector = embeddings_index.get(word)\n",
    "    if embedding_vector is not None:\n",
    "        embedding_matrix[i] = embedding_vector\n",
    "        \n",
    "embedding_layer = tf.keras.layers.Embedding(vocab_size,\n",
    "                                            embedding_dim,\n",
    "                                            weights=[embedding_matrix],\n",
    "                                            input_length=sequence_len,\n",
    "                                            trainable=False)"
   ]
  },
  {
   "cell_type": "code",
   "execution_count": null,
   "metadata": {
    "colab": {
     "base_uri": "https://localhost:8080/"
    },
    "id": "wiWXxAlb3Vz0",
    "outputId": "780c6107-a949-42c9-fbd3-b7f25f8dff5b"
   },
   "outputs": [
    {
     "name": "stdout",
     "output_type": "stream",
     "text": [
      "Model: \"model\"\n",
      "_________________________________________________________________\n",
      " Layer (type)                Output Shape              Param #   \n",
      "=================================================================\n",
      " input_1 (InputLayer)        [(None, 100)]             0         \n",
      "                                                                 \n",
      " embedding (Embedding)       (None, 100, 100)          1116300   \n",
      "                                                                 \n",
      " conv1d (Conv1D)             (None, 96, 128)           64128     \n",
      "                                                                 \n",
      " bidirectional (Bidirectiona  (None, 256)              263168    \n",
      " l)                                                              \n",
      "                                                                 \n",
      " dense (Dense)               (None, 512)               131584    \n",
      "                                                                 \n",
      " dropout (Dropout)           (None, 512)               0         \n",
      "                                                                 \n",
      " dense_1 (Dense)             (None, 512)               262656    \n",
      "                                                                 \n",
      " dense_2 (Dense)             (None, 1)                 513       \n",
      "                                                                 \n",
      "=================================================================\n",
      "Total params: 1,838,349\n",
      "Trainable params: 722,049\n",
      "Non-trainable params: 1,116,300\n",
      "_________________________________________________________________\n"
     ]
    }
   ],
   "source": [
    "# Define model architecture\n",
    "sequence_input = Input(shape=(sequence_len, ), dtype='int32')\n",
    "embedding_sequences = embedding_layer(sequence_input)\n",
    "\n",
    "x = Conv1D(128, 5, activation='relu')(embedding_sequences)\n",
    "x = Bidirectional(LSTM(128, dropout=0.5, recurrent_dropout=0.2))(x)\n",
    "x = Dense(512, activation='relu')(x)\n",
    "x = Dropout(0.5)(x)\n",
    "x = Dense(512, activation='relu')(x)\n",
    "outputs = Dense(1, activation='sigmoid')(x)\n",
    "model = Model(sequence_input, outputs)\n",
    "model.summary()"
   ]
  },
  {
   "cell_type": "code",
   "execution_count": null,
   "metadata": {
    "id": "5CjRkpck32h8"
   },
   "outputs": [],
   "source": [
    "# Optimize the model\n",
    "model.compile(optimizer=Adam(learning_rate=learning_rate), loss='binary_crossentropy', metrics=['accuracy'])"
   ]
  },
  {
   "cell_type": "code",
   "execution_count": null,
   "metadata": {
    "colab": {
     "base_uri": "https://localhost:8080/"
    },
    "id": "RatNfPcK36Ap",
    "outputId": "c33dfc77-e66a-4d74-baaa-e97a4b24f819"
   },
   "outputs": [
    {
     "name": "stdout",
     "output_type": "stream",
     "text": [
      "Epoch 1/20\n",
      "6/6 [==============================] - 55s 8s/step - loss: 0.6712 - accuracy: 0.5854 - val_loss: 0.5816 - val_accuracy: 0.7004\n",
      "Epoch 2/20\n",
      "6/6 [==============================] - 44s 7s/step - loss: 0.5649 - accuracy: 0.7193 - val_loss: 0.5255 - val_accuracy: 0.7634\n",
      "Epoch 3/20\n",
      "6/6 [==============================] - 45s 7s/step - loss: 0.5123 - accuracy: 0.7605 - val_loss: 0.4981 - val_accuracy: 0.7661\n",
      "Epoch 4/20\n",
      "6/6 [==============================] - 45s 7s/step - loss: 0.4955 - accuracy: 0.7754 - val_loss: 0.4887 - val_accuracy: 0.7714\n",
      "Epoch 5/20\n",
      "6/6 [==============================] - 43s 7s/step - loss: 0.4870 - accuracy: 0.7784 - val_loss: 0.4802 - val_accuracy: 0.7784\n",
      "Epoch 6/20\n",
      "6/6 [==============================] - 51s 9s/step - loss: 0.4786 - accuracy: 0.7799 - val_loss: 0.4756 - val_accuracy: 0.7797\n",
      "Epoch 7/20\n",
      "6/6 [==============================] - 48s 8s/step - loss: 0.4692 - accuracy: 0.7879 - val_loss: 0.4872 - val_accuracy: 0.7736\n",
      "Epoch 8/20\n",
      "6/6 [==============================] - 48s 8s/step - loss: 0.4574 - accuracy: 0.7909 - val_loss: 0.4706 - val_accuracy: 0.7819\n",
      "Epoch 9/20\n",
      "6/6 [==============================] - 45s 7s/step - loss: 0.4443 - accuracy: 0.8030 - val_loss: 0.4698 - val_accuracy: 0.7859\n",
      "Epoch 10/20\n",
      "6/6 [==============================] - 46s 7s/step - loss: 0.4363 - accuracy: 0.8022 - val_loss: 0.4652 - val_accuracy: 0.7868\n",
      "Epoch 11/20\n",
      "6/6 [==============================] - 47s 8s/step - loss: 0.4274 - accuracy: 0.8088 - val_loss: 0.4797 - val_accuracy: 0.7859\n",
      "Epoch 12/20\n",
      "6/6 [==============================] - 47s 8s/step - loss: 0.4166 - accuracy: 0.8136 - val_loss: 0.4687 - val_accuracy: 0.7863\n",
      "Epoch 13/20\n",
      "6/6 [==============================] - 47s 7s/step - loss: 0.3963 - accuracy: 0.8207 - val_loss: 0.4933 - val_accuracy: 0.7837\n",
      "Epoch 14/20\n",
      "6/6 [==============================] - 46s 7s/step - loss: 0.3834 - accuracy: 0.8304 - val_loss: 0.4992 - val_accuracy: 0.7833\n",
      "Epoch 15/20\n",
      "6/6 [==============================] - 48s 8s/step - loss: 0.3833 - accuracy: 0.8283 - val_loss: 0.4825 - val_accuracy: 0.7903\n",
      "Epoch 16/20\n",
      "6/6 [==============================] - 46s 8s/step - loss: 0.3548 - accuracy: 0.8470 - val_loss: 0.5088 - val_accuracy: 0.7855\n",
      "Epoch 17/20\n",
      "6/6 [==============================] - 46s 8s/step - loss: 0.3532 - accuracy: 0.8438 - val_loss: 0.5129 - val_accuracy: 0.7692\n",
      "Epoch 18/20\n",
      "6/6 [==============================] - 46s 7s/step - loss: 0.3410 - accuracy: 0.8532 - val_loss: 0.5424 - val_accuracy: 0.7797\n",
      "Epoch 19/20\n",
      "6/6 [==============================] - 50s 8s/step - loss: 0.3196 - accuracy: 0.8634 - val_loss: 0.5191 - val_accuracy: 0.7907\n",
      "Epoch 20/20\n",
      "6/6 [==============================] - 49s 8s/step - loss: 0.2973 - accuracy: 0.8791 - val_loss: 0.5579 - val_accuracy: 0.7912\n"
     ]
    }
   ],
   "source": [
    "# Train the LSTM Model\n",
    "history = model.fit(X_train,\n",
    "                    y_train,\n",
    "                    batch_size=batch_size,\n",
    "                    epochs=epochs, \n",
    "                    validation_data=(X_test, y_test))"
   ]
  },
  {
   "cell_type": "code",
   "execution_count": null,
   "metadata": {
    "id": "uhAamSdD37zm"
   },
   "outputs": [],
   "source": [
    "# Plot train accuracy and loss\n",
    "accuraties = history.history['acc']\n",
    "losses = history.history['loss']\n",
    "accuraties_losses = list(zip(accuraties,losses))\n",
    "\n",
    "accuraties_losses_df = pd.DataFrame(accuraties_losses, columns={\"accuraties\", \"losses\"})\n",
    "\n",
    "plt.figure(figsize=(10,4))\n",
    "plt.suptitle(\"Train Accuracy vs Train Loss\")\n",
    "sns.lineplot(data=accuraties_losses_df)\n",
    "plt.show()"
   ]
  }
 ],
 "metadata": {
  "colab": {
   "collapsed_sections": [],
   "name": "Tweet_LSTM1.ipynb",
   "provenance": []
  },
  "kernelspec": {
   "display_name": "Python 3 (ipykernel)",
   "language": "python",
   "name": "python3"
  },
  "language_info": {
   "codemirror_mode": {
    "name": "ipython",
    "version": 3
   },
   "file_extension": ".py",
   "mimetype": "text/x-python",
   "name": "python",
   "nbconvert_exporter": "python",
   "pygments_lexer": "ipython3",
   "version": "3.8.10"
  }
 },
 "nbformat": 4,
 "nbformat_minor": 1
}
